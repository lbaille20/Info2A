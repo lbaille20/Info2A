{
 "cells": [
  {
   "cell_type": "markdown",
   "metadata": {},
   "source": [
    "<h1 style='text-align:center'>PSI* - 2021.02.04 - sem19</h1>\n",
    "\n",
    "<h2 style='text-align:center'>Lecture écriture dans un fichier_v0</h2>"
   ]
  },
  {
   "cell_type": "code",
   "execution_count": 1,
   "metadata": {},
   "outputs": [],
   "source": [
    "f = open('Correspondances.txt') ## ouverture du fichier\n",
    "contenu = f.read()      ## lecture du fichier\n",
    "f.close() "
   ]
  },
  {
   "cell_type": "code",
   "execution_count": 2,
   "metadata": {},
   "outputs": [
    {
     "data": {
      "text/plain": [
       "'Correspondances\\n\\nLa Nature est un temple où de vivants piliers\\nLaissent parfois sortir de confuses paroles\\xa0;\\nL’homme y passe à travers des forêts de symboles\\nQui l’observent avec des regards familiers.\\n\\nComme de longs échos qui de loin se confondent\\nDans une ténébreuse et profonde unité,\\nVaste comme la nuit et comme la clarté,\\nLes parfums, les couleurs et les sons se répondent.\\n\\nIl est des parfums frais comme des chairs d’enfants,\\nDoux comme les hautbois, verts comme les prairies,\\n—\\xa0Et d’autres, corrompus, riches et triomphants,\\n\\n\\nAyant l’expansion des choses infinies,\\nComme l’ambre, le musc, le benjoin et l’encens,\\nQui chantent les transports de l’esprit et des sens.\\n\\n(Recueil\\xa0: Les fleurs du mal)\\n'"
      ]
     },
     "execution_count": 2,
     "metadata": {},
     "output_type": "execute_result"
    }
   ],
   "source": [
    "contenu"
   ]
  },
  {
   "cell_type": "code",
   "execution_count": 3,
   "metadata": {},
   "outputs": [
    {
     "name": "stdout",
     "output_type": "stream",
     "text": [
      "Correspondances\n",
      "\n",
      "La Nature est un temple où de vivants piliers\n",
      "Laissent parfois sortir de confuses paroles ;\n",
      "L’homme y passe à travers des forêts de symboles\n",
      "Qui l’observent avec des regards familiers.\n",
      "\n",
      "Comme de longs échos qui de loin se confondent\n",
      "Dans une ténébreuse et profonde unité,\n",
      "Vaste comme la nuit et comme la clarté,\n",
      "Les parfums, les couleurs et les sons se répondent.\n",
      "\n",
      "Il est des parfums frais comme des chairs d’enfants,\n",
      "Doux comme les hautbois, verts comme les prairies,\n",
      "— Et d’autres, corrompus, riches et triomphants,\n",
      "\n",
      "\n",
      "Ayant l’expansion des choses infinies,\n",
      "Comme l’ambre, le musc, le benjoin et l’encens,\n",
      "Qui chantent les transports de l’esprit et des sens.\n",
      "\n",
      "(Recueil : Les fleurs du mal)\n",
      "\n"
     ]
    }
   ],
   "source": [
    "print(contenu)"
   ]
  },
  {
   "cell_type": "code",
   "execution_count": 5,
   "metadata": {},
   "outputs": [],
   "source": [
    "f = open('graphe1.csv') ## ouverture du fichier\n",
    "contenu = f.read()      ## lecture du fichier\n",
    "f.close()               ## fermeture du fichier"
   ]
  },
  {
   "cell_type": "code",
   "execution_count": 3,
   "metadata": {},
   "outputs": [
    {
     "data": {
      "text/plain": [
       "'A;B;10\\nB;C;1\\nA;E;5\\nD;A;7\\nB;E;2\\nE;B;3\\nE;C;9\\nC;D;4\\nD;C;6\\nE;D;2\\n'"
      ]
     },
     "execution_count": 3,
     "metadata": {},
     "output_type": "execute_result"
    }
   ],
   "source": [
    "contenu"
   ]
  },
  {
   "cell_type": "code",
   "execution_count": 10,
   "metadata": {},
   "outputs": [
    {
     "name": "stdout",
     "output_type": "stream",
     "text": [
      "Correspondances\n",
      "\n",
      "La Nature est un temple où de vivants piliers\n",
      "Laissent parfois sortir de confuses paroles ;\n",
      "L’homme y passe à travers des forêts de symboles\n",
      "Qui l’observent avec des regards familiers.\n",
      "\n",
      "Comme de longs échos qui de loin se confondent\n",
      "Dans une ténébreuse et profonde unité,\n",
      "Vaste comme la nuit et comme la clarté,\n",
      "Les parfums, les couleurs et les sons se répondent.\n",
      "\n",
      "Il est des parfums frais comme des chairs d’enfants,\n",
      "Doux comme les hautbois, verts comme les prairies,\n",
      "— Et d’autres, corrompus, riches et triomphants,\n",
      "\n",
      "\n",
      "Ayant l’expansion des choses infinies,\n",
      "Comme l’ambre, le musc, le benjoin et l’encens,\n",
      "Qui chantent les transports de l’esprit et des sens.\n",
      "\n",
      "(Recueil : Les fleurs du mal)\n",
      "\n"
     ]
    }
   ],
   "source": [
    "print(contenu)"
   ]
  },
  {
   "cell_type": "code",
   "execution_count": 11,
   "metadata": {},
   "outputs": [
    {
     "data": {
      "text/plain": [
       "['Correspondances',\n",
       " '',\n",
       " 'La Nature est un temple où de vivants piliers',\n",
       " 'Laissent parfois sortir de confuses paroles\\xa0;',\n",
       " 'L’homme y passe à travers des forêts de symboles',\n",
       " 'Qui l’observent avec des regards familiers.',\n",
       " '',\n",
       " 'Comme de longs échos qui de loin se confondent',\n",
       " 'Dans une ténébreuse et profonde unité,',\n",
       " 'Vaste comme la nuit et comme la clarté,',\n",
       " 'Les parfums, les couleurs et les sons se répondent.',\n",
       " '',\n",
       " 'Il est des parfums frais comme des chairs d’enfants,',\n",
       " 'Doux comme les hautbois, verts comme les prairies,',\n",
       " '—\\xa0Et d’autres, corrompus, riches et triomphants,',\n",
       " '',\n",
       " '',\n",
       " 'Ayant l’expansion des choses infinies,',\n",
       " 'Comme l’ambre, le musc, le benjoin et l’encens,',\n",
       " 'Qui chantent les transports de l’esprit et des sens.',\n",
       " '',\n",
       " '(Recueil\\xa0: Les fleurs du mal)',\n",
       " '']"
      ]
     },
     "execution_count": 11,
     "metadata": {},
     "output_type": "execute_result"
    }
   ],
   "source": [
    "contenu.split('\\n')"
   ]
  },
  {
   "cell_type": "code",
   "execution_count": null,
   "metadata": {},
   "outputs": [],
   "source": []
  },
  {
   "cell_type": "code",
   "execution_count": 12,
   "metadata": {},
   "outputs": [],
   "source": [
    "f = open('graphe1.csv') ## ouverture du fichier\n",
    "contenu = f.read()      ## lecture du fichier\n",
    "f.close()               ## fermeture du fichier"
   ]
  },
  {
   "cell_type": "code",
   "execution_count": 13,
   "metadata": {},
   "outputs": [
    {
     "data": {
      "text/plain": [
       "'A;B;10\\nB;C;1\\nA;E;5\\nD;A;7\\nB;E;2\\nE;B;3\\nE;C;9\\nC;D;4\\nD;C;6\\nE;D;2\\n'"
      ]
     },
     "execution_count": 13,
     "metadata": {},
     "output_type": "execute_result"
    }
   ],
   "source": [
    "contenu"
   ]
  },
  {
   "cell_type": "code",
   "execution_count": 14,
   "metadata": {},
   "outputs": [
    {
     "data": {
      "text/plain": [
       "['A;B;10',\n",
       " 'B;C;1',\n",
       " 'A;E;5',\n",
       " 'D;A;7',\n",
       " 'B;E;2',\n",
       " 'E;B;3',\n",
       " 'E;C;9',\n",
       " 'C;D;4',\n",
       " 'D;C;6',\n",
       " 'E;D;2',\n",
       " '']"
      ]
     },
     "execution_count": 14,
     "metadata": {},
     "output_type": "execute_result"
    }
   ],
   "source": [
    "contenu.split('\\n')"
   ]
  },
  {
   "cell_type": "code",
   "execution_count": 15,
   "metadata": {},
   "outputs": [],
   "source": [
    "f = open('graphe1.csv')##ouverture du fichier ou explicitement f = open('graphe1.csv', 'r')\n",
    "contenu = f.readlines()      ## lecture du fichier\n",
    "f.close()               ## fermeture du fichier"
   ]
  },
  {
   "cell_type": "code",
   "execution_count": 16,
   "metadata": {},
   "outputs": [
    {
     "data": {
      "text/plain": [
       "['A;B;10\\n',\n",
       " 'B;C;1\\n',\n",
       " 'A;E;5\\n',\n",
       " 'D;A;7\\n',\n",
       " 'B;E;2\\n',\n",
       " 'E;B;3\\n',\n",
       " 'E;C;9\\n',\n",
       " 'C;D;4\\n',\n",
       " 'D;C;6\\n',\n",
       " 'E;D;2\\n']"
      ]
     },
     "execution_count": 16,
     "metadata": {},
     "output_type": "execute_result"
    }
   ],
   "source": [
    "contenu"
   ]
  },
  {
   "cell_type": "code",
   "execution_count": 24,
   "metadata": {},
   "outputs": [],
   "source": [
    "ligne0 = contenu[0]"
   ]
  },
  {
   "cell_type": "code",
   "execution_count": 25,
   "metadata": {},
   "outputs": [
    {
     "data": {
      "text/plain": [
       "'A;B;10\\n'"
      ]
     },
     "execution_count": 25,
     "metadata": {},
     "output_type": "execute_result"
    }
   ],
   "source": [
    "ligne0"
   ]
  },
  {
   "cell_type": "code",
   "execution_count": 27,
   "metadata": {},
   "outputs": [
    {
     "data": {
      "text/plain": [
       "'A;B;10'"
      ]
     },
     "execution_count": 27,
     "metadata": {},
     "output_type": "execute_result"
    }
   ],
   "source": [
    "ligne0.strip()"
   ]
  },
  {
   "cell_type": "code",
   "execution_count": 28,
   "metadata": {},
   "outputs": [
    {
     "data": {
      "text/plain": [
       "'A;B;10\\n'"
      ]
     },
     "execution_count": 28,
     "metadata": {},
     "output_type": "execute_result"
    }
   ],
   "source": [
    "ligne0"
   ]
  },
  {
   "cell_type": "code",
   "execution_count": 23,
   "metadata": {},
   "outputs": [
    {
     "data": {
      "text/plain": [
       "['A', 'B', '10\\n']"
      ]
     },
     "execution_count": 23,
     "metadata": {},
     "output_type": "execute_result"
    }
   ],
   "source": [
    "ligne0.split(';')"
   ]
  },
  {
   "cell_type": "code",
   "execution_count": 29,
   "metadata": {},
   "outputs": [],
   "source": [
    "## bonne méthode :\n",
    "ligne0_v1 = ligne0.strip()\n",
    "ligne0_v2 = ligne0_v1.split(\";\")"
   ]
  },
  {
   "cell_type": "code",
   "execution_count": 30,
   "metadata": {},
   "outputs": [
    {
     "data": {
      "text/plain": [
       "('A;B;10\\n', 'A;B;10', ['A', 'B', '10'])"
      ]
     },
     "execution_count": 30,
     "metadata": {},
     "output_type": "execute_result"
    }
   ],
   "source": [
    "ligne0, ligne0_v1, ligne0_v2"
   ]
  },
  {
   "cell_type": "code",
   "execution_count": 32,
   "metadata": {},
   "outputs": [
    {
     "name": "stdout",
     "output_type": "stream",
     "text": [
      "A;B;10\n",
      "\n",
      "['A', 'B', '10']\n"
     ]
    }
   ],
   "source": [
    "## en situation on  pourra faire\n",
    "ligne0 = contenu[0]\n",
    "print(ligne0)\n",
    "ligne0 = ligne0.strip().split(\";\")\n",
    "print(ligne0)"
   ]
  },
  {
   "cell_type": "markdown",
   "metadata": {},
   "source": [
    "Créer .csv"
   ]
  },
  {
   "cell_type": "code",
   "execution_count": 33,
   "metadata": {},
   "outputs": [],
   "source": [
    "entetes = ['x', 'y']\n",
    "donnees = [[1.2, -0.1], [4., 5.], [4.1, 5.7]]"
   ]
  },
  {
   "cell_type": "code",
   "execution_count": 39,
   "metadata": {},
   "outputs": [
    {
     "name": "stdout",
     "output_type": "stream",
     "text": [
      "1.2;-0.1\n",
      "\n",
      "4.0;5.0\n",
      "\n",
      "4.1;5.7\n",
      "\n"
     ]
    }
   ],
   "source": [
    "f = open('coordonnees.csv', 'w') ## ouverture du fichier\n",
    "f.write('x;y\\n') ##écrituree \"à la main des entêtes\"\n",
    "##écriture des données\n",
    "for line in donnees:\n",
    "    ch=\"\"\n",
    "    for val in line:\n",
    "        ch+=str(val)+\";\"\n",
    "    ch = ch[:-1] + '\\n'\n",
    "    print(ch)\n",
    "    f.write(ch)\n",
    "f.close()               ## fermeture du fichier"
   ]
  },
  {
   "cell_type": "code",
   "execution_count": null,
   "metadata": {},
   "outputs": [],
   "source": []
  },
  {
   "cell_type": "code",
   "execution_count": null,
   "metadata": {},
   "outputs": [],
   "source": []
  }
 ],
 "metadata": {
  "kernelspec": {
   "display_name": "Python 3",
   "language": "python",
   "name": "python3"
  },
  "language_info": {
   "codemirror_mode": {
    "name": "ipython",
    "version": 3
   },
   "file_extension": ".py",
   "mimetype": "text/x-python",
   "name": "python",
   "nbconvert_exporter": "python",
   "pygments_lexer": "ipython3",
   "version": "3.7.1"
  }
 },
 "nbformat": 4,
 "nbformat_minor": 4
}
